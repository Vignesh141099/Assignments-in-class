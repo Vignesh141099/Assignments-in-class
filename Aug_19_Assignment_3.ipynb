{
  "nbformat": 4,
  "nbformat_minor": 0,
  "metadata": {
    "colab": {
      "name": "Aug 19 Assignment 3.ipynb",
      "provenance": [],
      "authorship_tag": "ABX9TyOA+Ix/yauawetsaLIqC/aj",
      "include_colab_link": true
    },
    "kernelspec": {
      "name": "python3",
      "display_name": "Python 3"
    },
    "language_info": {
      "name": "python"
    }
  },
  "cells": [
    {
      "cell_type": "markdown",
      "metadata": {
        "id": "view-in-github",
        "colab_type": "text"
      },
      "source": [
        "<a href=\"https://colab.research.google.com/github/Vignesh141099/Assignments-in-class/blob/main/Aug_19_Assignment_3.ipynb\" target=\"_parent\"><img src=\"https://colab.research.google.com/assets/colab-badge.svg\" alt=\"Open In Colab\"/></a>"
      ]
    },
    {
      "cell_type": "code",
      "execution_count": 2,
      "metadata": {
        "id": "4QTUjoDJ4GPc"
      },
      "outputs": [],
      "source": [
        "def word_count(str):\n",
        "    counts = dict()\n",
        "    words = str.split()\n",
        "\n",
        "    for word in words:\n",
        "        if word in counts:\n",
        "            counts[word] = counts + 1\n",
        "        else:\n",
        "            counts[word] = 1\n",
        "    return counts\n",
        "\n"
      ]
    },
    {
      "cell_type": "code",
      "source": [
        "# counting the words as dictionary\n",
        "def word_count(str):\n",
        "    counts = dict()\n",
        "    words = str.split()\n",
        "\n",
        "    for word in words:\n",
        "        if word in counts:\n",
        "            counts[word] = counts[word] + 1\n",
        "        else:\n",
        "            counts[word] = 1\n",
        "    return counts\n",
        "\n"
      ],
      "metadata": {
        "id": "Ps5PNuWh4VvD"
      },
      "execution_count": 14,
      "outputs": []
    },
    {
      "cell_type": "code",
      "source": [
        "print( word_count('the man who behind the wall is shouting.'))\n"
      ],
      "metadata": {
        "colab": {
          "base_uri": "https://localhost:8080/"
        },
        "id": "QU5e_PN94kil",
        "outputId": "f879ea83-4964-4e37-b94e-6685ac3465a5"
      },
      "execution_count": 13,
      "outputs": [
        {
          "output_type": "stream",
          "name": "stdout",
          "text": [
            "{'the': 2, 'man': 1, 'who': 1, 'behind': 1, 'wall': 1, 'is': 1, 'shouting.': 1}\n"
          ]
        }
      ]
    }
  ]
}